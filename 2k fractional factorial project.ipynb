{
 "cells": [
  {
   "cell_type": "code",
   "execution_count": 1,
   "id": "6198e0dd",
   "metadata": {},
   "outputs": [
    {
     "name": "stdout",
     "output_type": "stream",
     "text": [
      "\n",
      "Enabling interactive shell outputs ...\n",
      "   Use command pass; to disable cell text outputs\n"
     ]
    }
   ],
   "source": [
    "print('\\nEnabling interactive shell outputs ...')\n",
    "print('   Use command pass; to disable cell text outputs')\n",
    "from IPython.core.interactiveshell import InteractiveShell\n",
    "InteractiveShell.ast_node_interactivity = \"all\"\n",
    "\n",
    "import warnings\n",
    "warnings.filterwarnings('ignore') \n",
    "warnings.simplefilter(action=\"ignore\",category=UserWarning)\n",
    "warnings.simplefilter(action=\"ignore\",category=FutureWarning)\n",
    "\n",
    "import pandas as pd \n",
    "import numpy as np\n",
    "import matplotlib.pyplot as plt\n",
    "import seaborn as sns\n",
    "from scipy import stats\n",
    "import statsmodels.api as sm\n",
    "\n",
    "\n",
    "%matplotlib inline\n",
    "%config InlineBackend.figure_formats = {'png', 'retina'}"
   ]
  },
  {
   "cell_type": "code",
   "execution_count": 2,
   "id": "fad68fbb",
   "metadata": {},
   "outputs": [
    {
     "data": {
      "text/html": [
       "<div>\n",
       "<style scoped>\n",
       "    .dataframe tbody tr th:only-of-type {\n",
       "        vertical-align: middle;\n",
       "    }\n",
       "\n",
       "    .dataframe tbody tr th {\n",
       "        vertical-align: top;\n",
       "    }\n",
       "\n",
       "    .dataframe thead th {\n",
       "        text-align: right;\n",
       "    }\n",
       "</style>\n",
       "<table border=\"1\" class=\"dataframe\">\n",
       "  <thead>\n",
       "    <tr style=\"text-align: right;\">\n",
       "      <th></th>\n",
       "      <th>A</th>\n",
       "      <th>B</th>\n",
       "      <th>1</th>\n",
       "      <th>2</th>\n",
       "      <th>3</th>\n",
       "      <th>4</th>\n",
       "      <th>5</th>\n",
       "      <th>6</th>\n",
       "      <th>7</th>\n",
       "      <th>8</th>\n",
       "      <th>9</th>\n",
       "      <th>10</th>\n",
       "      <th>11</th>\n",
       "      <th>12</th>\n",
       "      <th>13</th>\n",
       "      <th>14</th>\n",
       "      <th>15</th>\n",
       "    </tr>\n",
       "  </thead>\n",
       "  <tbody>\n",
       "    <tr>\n",
       "      <th>0</th>\n",
       "      <td>-1</td>\n",
       "      <td>-1</td>\n",
       "      <td>34.2</td>\n",
       "      <td>26.2</td>\n",
       "      <td>32.6</td>\n",
       "      <td>33.4</td>\n",
       "      <td>27.9</td>\n",
       "      <td>28.1</td>\n",
       "      <td>26.9</td>\n",
       "      <td>28.8</td>\n",
       "      <td>32.6</td>\n",
       "      <td>27.2</td>\n",
       "      <td>28.2</td>\n",
       "      <td>26.2</td>\n",
       "      <td>23.5</td>\n",
       "      <td>34.5</td>\n",
       "      <td>24.5</td>\n",
       "    </tr>\n",
       "    <tr>\n",
       "      <th>1</th>\n",
       "      <td>1</td>\n",
       "      <td>-1</td>\n",
       "      <td>34.1</td>\n",
       "      <td>30.8</td>\n",
       "      <td>35.1</td>\n",
       "      <td>27.2</td>\n",
       "      <td>30.4</td>\n",
       "      <td>35.6</td>\n",
       "      <td>36.8</td>\n",
       "      <td>26.5</td>\n",
       "      <td>29.2</td>\n",
       "      <td>32.9</td>\n",
       "      <td>33.8</td>\n",
       "      <td>35.9</td>\n",
       "      <td>31.6</td>\n",
       "      <td>30.4</td>\n",
       "      <td>30.5</td>\n",
       "    </tr>\n",
       "    <tr>\n",
       "      <th>2</th>\n",
       "      <td>-1</td>\n",
       "      <td>1</td>\n",
       "      <td>44.5</td>\n",
       "      <td>38.4</td>\n",
       "      <td>44.2</td>\n",
       "      <td>45.7</td>\n",
       "      <td>63.9</td>\n",
       "      <td>49.5</td>\n",
       "      <td>42.3</td>\n",
       "      <td>45.3</td>\n",
       "      <td>54.7</td>\n",
       "      <td>43.5</td>\n",
       "      <td>46.5</td>\n",
       "      <td>46.8</td>\n",
       "      <td>44.8</td>\n",
       "      <td>41.5</td>\n",
       "      <td>30.6</td>\n",
       "    </tr>\n",
       "    <tr>\n",
       "      <th>3</th>\n",
       "      <td>1</td>\n",
       "      <td>1</td>\n",
       "      <td>51.9</td>\n",
       "      <td>55.9</td>\n",
       "      <td>58.9</td>\n",
       "      <td>57.4</td>\n",
       "      <td>58.3</td>\n",
       "      <td>60.2</td>\n",
       "      <td>60.8</td>\n",
       "      <td>56.4</td>\n",
       "      <td>52.3</td>\n",
       "      <td>61.2</td>\n",
       "      <td>57.3</td>\n",
       "      <td>62.5</td>\n",
       "      <td>58.5</td>\n",
       "      <td>53.5</td>\n",
       "      <td>52.4</td>\n",
       "    </tr>\n",
       "  </tbody>\n",
       "</table>\n",
       "</div>"
      ],
      "text/plain": [
       "   A  B     1     2     3     4     5     6     7     8     9    10    11  \\\n",
       "0 -1 -1  34.2  26.2  32.6  33.4  27.9  28.1  26.9  28.8  32.6  27.2  28.2   \n",
       "1  1 -1  34.1  30.8  35.1  27.2  30.4  35.6  36.8  26.5  29.2  32.9  33.8   \n",
       "2 -1  1  44.5  38.4  44.2  45.7  63.9  49.5  42.3  45.3  54.7  43.5  46.5   \n",
       "3  1  1  51.9  55.9  58.9  57.4  58.3  60.2  60.8  56.4  52.3  61.2  57.3   \n",
       "\n",
       "     12    13    14    15  \n",
       "0  26.2  23.5  34.5  24.5  \n",
       "1  35.9  31.6  30.4  30.5  \n",
       "2  46.8  44.8  41.5  30.6  \n",
       "3  62.5  58.5  53.5  52.4  "
      ]
     },
     "execution_count": 2,
     "metadata": {},
     "output_type": "execute_result"
    }
   ],
   "source": [
    "growth_marigold_df = pd.read_excel(\"data/growth_marigold_sprout.xlsx\")\n",
    "growth_marigold_df"
   ]
  },
  {
   "cell_type": "code",
   "execution_count": 3,
   "id": "dd73b7db",
   "metadata": {},
   "outputs": [],
   "source": [
    "factorial_eff = pd.DataFrame(growth_marigold_df, columns=['A','B','AB'])"
   ]
  },
  {
   "cell_type": "code",
   "execution_count": 4,
   "id": "d77404be",
   "metadata": {},
   "outputs": [],
   "source": [
    "# Add interaction effects\n",
    "factorial_eff['AB'] = factorial_eff['A']*factorial_eff['B']"
   ]
  },
  {
   "cell_type": "code",
   "execution_count": 5,
   "id": "f0b0698a",
   "metadata": {},
   "outputs": [
    {
     "data": {
      "text/plain": [
       "(   A  B  AB\n",
       " 0 -1 -1   1\n",
       " 1  1 -1  -1\n",
       " 2 -1  1  -1\n",
       " 3  1  1   1,\n",
       " array([[434.8],\n",
       "        [480.8],\n",
       "        [682.2],\n",
       "        [857.5]]))"
      ]
     },
     "execution_count": 5,
     "metadata": {},
     "output_type": "execute_result"
    }
   ],
   "source": [
    "# Observations from three replicates\n",
    "growth_y = np.array([[34.2, 26.2, 32.6, 33.4, 27.9, 28.1, 26.9, 28.8, 32.6, 27.2, 28.2, 26.2, 23.5, 34.5, 24.5],\n",
    "                     [34.1, 30.8, 35.1, 27.2, 30.4, 35.6, 36.8, 26.5, 29.2, 32.9, 33.8, 35.9, 31.6, 30.4, 30.5],\n",
    "                     [44.5, 38.4, 44.2, 45.7, 63.9, 49.5, 42.3, 45.3, 54.7, 43.5, 46.5, 46.8, 44.8, 41.5, 30.6],\n",
    "                     [51.9, 55.9, 58.9, 57.4, 58.3, 60.2, 60.8, 56.4, 52.3, 61.2, 57.3, 62.5, 58.5, 53.5, 52.4]])\n",
    "\n",
    "# Get a vector of total response\n",
    "total_growth = np.c_[growth_y.sum(axis=1)]\n",
    "factorial_eff, total_growth"
   ]
  },
  {
   "cell_type": "code",
   "execution_count": 6,
   "id": "3bf131c0",
   "metadata": {},
   "outputs": [
    {
     "name": "stdout",
     "output_type": "stream",
     "text": [
      "Contrast effects\n",
      "A     221.3\n",
      "B     624.1\n",
      "AB    129.3\n",
      "\n",
      "Effect estimates\n",
      "A      7.376667\n",
      "B     20.803333\n",
      "AB     4.310000\n",
      "\n",
      "SS effects\n",
      "A      816.228167\n",
      "B     6491.680167\n",
      "AB     278.641500\n"
     ]
    }
   ],
   "source": [
    "k, n = np.log2(len(factorial_eff)), growth_y.shape[1]\n",
    "\n",
    "contrast_eff = factorial_eff.iloc[:,0:].mul(total_growth).sum()\n",
    "print('Contrast effects\\n', contrast_eff.to_string(), sep='')\n",
    "\n",
    "effects = (contrast_eff)/((2**(k-1))*n)\n",
    "print('\\nEffect estimates\\n', effects.to_string(), sep='')\n",
    "\n",
    "ss_eff = (contrast_eff**2)/((2**k)*n)\n",
    "print('\\nSS effects\\n', ss_eff.to_string(), sep='')"
   ]
  },
  {
   "cell_type": "markdown",
   "id": "ad8e3548",
   "metadata": {},
   "source": [
    "### SSE and MSE"
   ]
  },
  {
   "cell_type": "code",
   "execution_count": 7,
   "id": "ec940628",
   "metadata": {},
   "outputs": [
    {
     "name": "stdout",
     "output_type": "stream",
     "text": [
      "SSE = 1229.27, MSE = 21.95\n"
     ]
    }
   ],
   "source": [
    "SST = (sum(sum(growth_y**2)) - sum(total_growth)**2/growth_y.size)[0]\n",
    "SSE = SST - sum(ss_eff)\n",
    "MSE = SSE/(growth_y.size - len(ss_eff) - 1)\n",
    "print(\"SSE = {:.2f}, MSE = {:.2f}\".format(SSE, MSE))"
   ]
  },
  {
   "cell_type": "code",
   "execution_count": 8,
   "id": "85e5e947",
   "metadata": {},
   "outputs": [
    {
     "name": "stderr",
     "output_type": "stream",
     "text": [
      "C:\\Users\\win10x64\\anaconda\\lib\\site-packages\\statsmodels\\stats\\stattools.py:74: ValueWarning: omni_normtest is not valid with less than 8 observations; 4 samples were given.\n",
      "  warn(\"omni_normtest is not valid with less than 8 observations; %i \"\n"
     ]
    },
    {
     "data": {
      "text/html": [
       "<table class=\"simpletable\">\n",
       "<tr>\n",
       "          <td>Model:</td>                 <td>OLS</td>       <td>Adj. R-squared (uncentered):</td>   <td>-2.719</td>  \n",
       "</tr>\n",
       "<tr>\n",
       "    <td>Dependent Variable:</td>           <td>y</td>                    <td>AIC:</td>               <td>68.7092</td> \n",
       "</tr>\n",
       "<tr>\n",
       "           <td>Date:</td>          <td>2021-11-23 16:59</td>             <td>BIC:</td>               <td>66.8681</td> \n",
       "</tr>\n",
       "<tr>\n",
       "     <td>No. Observations:</td>            <td>4</td>               <td>Log-Likelihood:</td>         <td>-31.355</td> \n",
       "</tr>\n",
       "<tr>\n",
       "         <td>Df Model:</td>                <td>3</td>                <td>F-statistic:</td>           <td>0.02517</td> \n",
       "</tr>\n",
       "<tr>\n",
       "       <td>Df Residuals:</td>              <td>1</td>             <td>Prob (F-statistic):</td>        <td>0.992</td>  \n",
       "</tr>\n",
       "<tr>\n",
       "  <td>R-squared (uncentered):</td>       <td>0.070</td>                 <td>Scale:</td>            <td>1.5071e+06</td>\n",
       "</tr>\n",
       "</table>\n",
       "<table class=\"simpletable\">\n",
       "<tr>\n",
       "   <td></td>    <th>Coef.</th>  <th>Std.Err.</th>    <th>t</th>    <th>P>|t|</th>   <th>[0.025</th>    <th>0.975]</th>  \n",
       "</tr>\n",
       "<tr>\n",
       "  <th>A</th>   <td>55.3250</td> <td>613.8250</td> <td>0.0901</td> <td>0.9428</td> <td>-7744.0611</td> <td>7854.7111</td>\n",
       "</tr>\n",
       "<tr>\n",
       "  <th>B</th>  <td>156.0250</td> <td>613.8250</td> <td>0.2542</td> <td>0.8415</td> <td>-7643.3611</td> <td>7955.4111</td>\n",
       "</tr>\n",
       "<tr>\n",
       "  <th>AB</th>  <td>32.3250</td> <td>613.8250</td> <td>0.0527</td> <td>0.9665</td> <td>-7767.0611</td> <td>7831.7111</td>\n",
       "</tr>\n",
       "</table>\n",
       "<table class=\"simpletable\">\n",
       "<tr>\n",
       "     <td>Omnibus:</td>     <td>nan</td>   <td>Durbin-Watson:</td>   <td>0.000</td>\n",
       "</tr>\n",
       "<tr>\n",
       "  <td>Prob(Omnibus):</td>  <td>nan</td>  <td>Jarque-Bera (JB):</td> <td>1.500</td>\n",
       "</tr>\n",
       "<tr>\n",
       "       <td>Skew:</td>     <td>0.000</td>     <td>Prob(JB):</td>     <td>0.472</td>\n",
       "</tr>\n",
       "<tr>\n",
       "     <td>Kurtosis:</td>   <td>0.000</td>  <td>Condition No.:</td>     <td>1</td>  \n",
       "</tr>\n",
       "</table>"
      ],
      "text/plain": [
       "<class 'statsmodels.iolib.summary2.Summary'>\n",
       "\"\"\"\n",
       "                        Results: Ordinary least squares\n",
       "================================================================================\n",
       "Model:                  OLS              Adj. R-squared (uncentered): -2.719    \n",
       "Dependent Variable:     y                AIC:                         68.7092   \n",
       "Date:                   2021-11-23 16:59 BIC:                         66.8681   \n",
       "No. Observations:       4                Log-Likelihood:              -31.355   \n",
       "Df Model:               3                F-statistic:                 0.02517   \n",
       "Df Residuals:           1                Prob (F-statistic):          0.992     \n",
       "R-squared (uncentered): 0.070            Scale:                       1.5071e+06\n",
       "-------------------------------------------------------------------------------------\n",
       "         Coef.        Std.Err.        t         P>|t|         [0.025          0.975] \n",
       "-------------------------------------------------------------------------------------\n",
       "A        55.3250      613.8250      0.0901      0.9428      -7744.0611      7854.7111\n",
       "B       156.0250      613.8250      0.2542      0.8415      -7643.3611      7955.4111\n",
       "AB       32.3250      613.8250      0.0527      0.9665      -7767.0611      7831.7111\n",
       "--------------------------------------------------------------------------------\n",
       "Omnibus:                   nan               Durbin-Watson:                0.000\n",
       "Prob(Omnibus):             nan               Jarque-Bera (JB):             1.500\n",
       "Skew:                      0.000             Prob(JB):                     0.472\n",
       "Kurtosis:                  0.000             Condition No.:                1    \n",
       "================================================================================\n",
       "\n",
       "\"\"\""
      ]
     },
     "execution_count": 8,
     "metadata": {},
     "output_type": "execute_result"
    }
   ],
   "source": [
    "import statsmodels.api as sm\n",
    "\n",
    "growth_model = sm.OLS(total_growth,factorial_eff).fit()\n",
    "growth_model.summary2()"
   ]
  },
  {
   "cell_type": "code",
   "execution_count": 9,
   "id": "4309d875",
   "metadata": {},
   "outputs": [
    {
     "data": {
      "text/plain": [
       "0.0"
      ]
     },
     "execution_count": 9,
     "metadata": {},
     "output_type": "execute_result"
    },
    {
     "name": "stdout",
     "output_type": "stream",
     "text": [
      "SSE =1229.27, MSE-  21.95\n",
      "F-A 13.279862661260376\n",
      "F-B 105.61828735489765\n",
      "F-AB 4.533439303913092\n",
      "P-value A 0.0016139148924824635\n",
      "P-value B 1.994153707145001e-09\n",
      "P-value AB 0.04585300168761242\n"
     ]
    }
   ],
   "source": [
    "SST - (sum(sum(growth_y**2))- sum(total_growth)**2/growth_y. size)[0]\n",
    "SSE = SST - sum(ss_eff)\n",
    "MSE = SSE/(growth_y.size- len(ss_eff)-1)\n",
    "n=6\n",
    "df_error= (2**2)*(n-1)\n",
    "F_a = ss_eff[0] / (SSE/df_error)\n",
    "F_b= ss_eff[1] / (SSE/df_error)\n",
    "F_ab = ss_eff[2] / (SSE/df_error)\n",
    "print(\"SSE ={:.2f}, MSE- {: .2f}\". format(SSE, MSE))\n",
    "print(\"F-A\",F_a)\n",
    "print(\"F-B\",F_b)\n",
    "print(\"F-AB\",F_ab)\n",
    "p_value_a = stats.f.sf(F_a,1,df_error)\n",
    "p_value_b = stats.f.sf(F_b,  1, df_error)\n",
    "p_value_ab = stats.f.sf(F_ab, 1, df_error)\n",
    "print(\"P-value A\",p_value_a)\n",
    "print(\"P-value B\",p_value_b)\n",
    "print(\"P-value AB\",p_value_ab)"
   ]
  },
  {
   "cell_type": "code",
   "execution_count": null,
   "id": "b4801705",
   "metadata": {},
   "outputs": [],
   "source": []
  }
 ],
 "metadata": {
  "kernelspec": {
   "display_name": "Python 3 (ipykernel)",
   "language": "python",
   "name": "python3"
  },
  "language_info": {
   "codemirror_mode": {
    "name": "ipython",
    "version": 3
   },
   "file_extension": ".py",
   "mimetype": "text/x-python",
   "name": "python",
   "nbconvert_exporter": "python",
   "pygments_lexer": "ipython3",
   "version": "3.8.8"
  }
 },
 "nbformat": 4,
 "nbformat_minor": 5
}
